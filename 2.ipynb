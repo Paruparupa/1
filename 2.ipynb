{
 "cells": [
  {
   "cell_type": "markdown",
   "metadata": {},
   "source": [
    "实验二 Python基础测验\n",
    "=======\n",
    "-------"
   ]
  },
  {
   "cell_type": "markdown",
   "metadata": {},
   "source": [
    "1. 输出以下例子的数据类型：\n",
    "    - `-100`\n",
    "    - `3.1416`\n",
    "    - `'hello'`\n",
    "    - `[1,2,'s']`\n",
    "    - `{'a':1,'b':2}`\n",
    "    - `True`\n",
    "    - `(11,'st')`"
   ]
  },
  {
   "cell_type": "code",
   "execution_count": 50,
   "metadata": {},
   "outputs": [
    {
     "name": "stdout",
     "output_type": "stream",
     "text": [
      "<class 'int'>\n",
      "<class 'float'>\n",
      "<class 'str'>\n",
      "<class 'list'>\n",
      "<class 'dict'>\n",
      "<class 'bool'>\n",
      "<class 'tuple'>\n"
     ]
    }
   ],
   "source": [
    "print(type(-100))\n",
    "print(type(3.1416))\n",
    "print(type('hello'))\n",
    "print(type([1,2,'s']))\n",
    "print(type({'a':1,'b':2}))\n",
    "print(type(True))\n",
    "print(type((11,'st')))"
   ]
  },
  {
   "cell_type": "markdown",
   "metadata": {},
   "source": [
    "2. 使用python的基本数学库math计算下面的公式：\n",
    "    - 计算10的三次方\n",
    "    - 计算`(cos(2)+1)/(cos(3)+1)`\n",
    "    - 计算![](1_basic.png)"
   ]
  },
  {
   "cell_type": "code",
   "execution_count": 51,
   "metadata": {},
   "outputs": [
    {
     "name": "stdout",
     "output_type": "stream",
     "text": [
      "1000 1000 1000.0 1000.0\n",
      "58.3415403564933\n",
      "-0.8596859432230916\n"
     ]
    }
   ],
   "source": [
    "import math\n",
    "import numpy as np\n",
    "print(10*10*10, 10**3, 1e3, math.pow(10, 3))\n",
    "print((math.cos(2) + 1) / (math.cos(3) + 1))\n",
    "print(-4**(1/3)/(4*math.log(math.sqrt(2)-1)) - math.sqrt(3)/(6*math.atan(1/(1+2*math.sqrt(3)))))"
   ]
  },
  {
   "cell_type": "markdown",
   "metadata": {},
   "source": [
    "3. 给定字符串`s1`,`s2`，按要求进行代码实现：\n",
    "    - 输出字符串`s1`中所含字符个数；\n",
    "    - 将`s1`和`s2`拼接，创建新的字符串`s`；\n",
    "    - 将字符串`s2`的首尾多余空格进行过滤，以`,`分隔，保存至`l`；\n",
    "    - 将`l`进行连接还原为`s2`；\n",
    "    - 将字符串`s`进行格式化输出，输出格式如下：\n",
    "    \n",
    "    ```python\n",
    "    'helloword   this is,ot,her word   helloword this is,ot,her word  '\n",
    "    ```"
   ]
  },
  {
   "cell_type": "code",
   "execution_count": 52,
   "metadata": {},
   "outputs": [
    {
     "name": "stdout",
     "output_type": "stream",
     "text": [
      "9\n",
      "helloword this is,ot,her word  \n",
      "['this is', 'ot', 'her word']\n",
      "this is,ot,her word\n",
      "this is,ot,her word\n",
      "helloword   this is,ot,her word    helloword this is,ot,her word   \n"
     ]
    }
   ],
   "source": [
    "s1 = 'helloword'\n",
    "s2 = ' this is,ot,her word  '\n",
    "print(len(s1))\n",
    "s = s1 + s2\n",
    "print(s)\n",
    "l = s2.strip().split(',')\n",
    "print(l)\n",
    "print(l[0] + ',' + l[1] + ',' + l[2])\n",
    "print(','.join(l))\n",
    "print(s1 + '  ' + s2 + '  ' + s1 + s2 + ' ')"
   ]
  },
  {
   "cell_type": "markdown",
   "metadata": {},
   "source": [
    "4. 给定字符串s，按要求进行代码实现：\n",
    "    - 每隔两个取一个值；\n",
    "    - 字符串逆序"
   ]
  },
  {
   "cell_type": "code",
   "execution_count": 53,
   "metadata": {},
   "outputs": [
    {
     "name": "stdout",
     "output_type": "stream",
     "text": [
      "hlowrd\n",
      "dlrow olleh\n"
     ]
    }
   ],
   "source": [
    "s = \"hello world\"\n",
    "print(s[::2])\n",
    "print(s[::-1])"
   ]
  },
  {
   "cell_type": "markdown",
   "metadata": {},
   "source": [
    "5. 给定列表alist，按要求进行代码实现：\n",
    "    - 实现列表反向；\n",
    "    - 将列表中元素按升序排列；\n",
    "    - 删除列表中索引为2的元素；\n",
    "    - 添加元素`15`；\n",
    "    - 判断元素`4`是否在列表alist中；"
   ]
  },
  {
   "cell_type": "code",
   "execution_count": 54,
   "metadata": {},
   "outputs": [
    {
     "name": "stdout",
     "output_type": "stream",
     "text": [
      "[1, 2, 3, 4, 5, 6, 7, 8, 9]\n",
      "[1, 2, 3, 4, 5, 6, 7, 8, 9]\n",
      "[1, 2, 4, 5, 6, 7, 8, 9]\n",
      "[1, 2, 4, 5, 6, 7, 8, 9, 15]\n",
      "True\n"
     ]
    }
   ],
   "source": [
    "alist = [9,8,7,6,5,4,3,2,1]\n",
    "alist.reverse()\n",
    "print(alist)\n",
    "alist.sort()\n",
    "print(alist)\n",
    "del alist[2]\n",
    "print(alist)\n",
    "alist.append(15)\n",
    "print(alist)\n",
    "print(4 in alist)"
   ]
  },
  {
   "cell_type": "markdown",
   "metadata": {},
   "source": [
    "6. 给定字符串s和列表a，按要求进行代码实现：\n",
    "    - 将字符串s中的`hello`修改为`goodbye`;\n",
    "    - 将列表索引为2的元素修改为100"
   ]
  },
  {
   "cell_type": "code",
   "execution_count": 55,
   "metadata": {},
   "outputs": [
    {
     "name": "stdout",
     "output_type": "stream",
     "text": [
      "goodbye world\n",
      "[1, 2, 100, 4]\n"
     ]
    }
   ],
   "source": [
    "s = \"hello world\"\n",
    "a = [1,2,3,4]\n",
    "print(s.replace('hello', 'goodbye'))\n",
    "a[2] = 100\n",
    "print(a)"
   ]
  },
  {
   "cell_type": "markdown",
   "metadata": {},
   "source": [
    "7. 按要求进行代码实现：\n",
    "```python\n",
    "{ 'cows':1,\n",
    " 'dogs':5,\n",
    " 'cats':3}\n",
    "```\n",
    "    - 创建字典a，字典内容如上所示;\n",
    "    - 查询字典a中是否有键‘rabbit’；\n",
    "    - 使用get函数在字典a中加入键‘chicken’；\n",
    "    - 输出字典a中所有的键值对"
   ]
  },
  {
   "cell_type": "code",
   "execution_count": 56,
   "metadata": {},
   "outputs": [
    {
     "name": "stdout",
     "output_type": "stream",
     "text": [
      "{'cows': 1, 'dogs': 5, 'cats': 3}\n",
      "False\n",
      "None\n",
      "[('cows', 1), ('dogs', 5), ('cats', 3)]\n"
     ]
    }
   ],
   "source": [
    "a = {'cows':1, 'dogs':5, 'cats':3}\n",
    "print(a)\n",
    "print('rabbit' in a)\n",
    "print(a.get('chicken'))\n",
    "print(list(a.items()))"
   ]
  },
  {
   "cell_type": "markdown",
   "metadata": {},
   "source": [
    "8. 给定集合`a`和`b`,按要求进行代码实现：\n",
    "    - 求集合的交、并、差；\n",
    "    - 将元素`12`加入集合a中；\n",
    "    - 从集合a中去除所有属于b的元素；"
   ]
  },
  {
   "cell_type": "code",
   "execution_count": 57,
   "metadata": {},
   "outputs": [
    {
     "name": "stdout",
     "output_type": "stream",
     "text": [
      "{3, 4}\n",
      "{1, 2, 3, 4, 5, 6}\n",
      "{1, 2}\n",
      "{5, 6}\n",
      "{1, 2, 3, 4, 12}\n",
      "{1, 2, 12}\n"
     ]
    }
   ],
   "source": [
    "a = {1,2,3,4}\n",
    "b = {3,4,5,6}\n",
    "print(a & b)\n",
    "print(a | b)\n",
    "print(a - b)\n",
    "print(b - a)\n",
    "a.add(12)\n",
    "print(a)\n",
    "print(a - b)"
   ]
  },
  {
   "cell_type": "markdown",
   "metadata": {},
   "source": [
    "9. 创建一个不可变集合`s`，元素为：`[1, 2, 3, 'a', 1]`"
   ]
  },
  {
   "cell_type": "code",
   "execution_count": 58,
   "metadata": {},
   "outputs": [
    {
     "name": "stdout",
     "output_type": "stream",
     "text": [
      "frozenset({1, 2, 3, 'a'})\n"
     ]
    }
   ],
   "source": [
    "s = frozenset([1, 2, 3, 'a', 1])\n",
    "print(s)"
   ]
  }
 ],
 "metadata": {
  "kernelspec": {
   "display_name": "base",
   "language": "python",
   "name": "python3"
  },
  "language_info": {
   "codemirror_mode": {
    "name": "ipython",
    "version": 3
   },
   "file_extension": ".py",
   "mimetype": "text/x-python",
   "name": "python",
   "nbconvert_exporter": "python",
   "pygments_lexer": "ipython3",
   "version": "3.12.4"
  }
 },
 "nbformat": 4,
 "nbformat_minor": 2
}
