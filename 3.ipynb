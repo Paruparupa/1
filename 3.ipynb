{
 "cells": [
  {
   "cell_type": "markdown",
   "metadata": {},
   "source": [
    "1.判断值在元组中"
   ]
  },
  {
   "cell_type": "code",
   "execution_count": 19,
   "metadata": {},
   "outputs": [
    {
     "name": "stdout",
     "output_type": "stream",
     "text": [
      "True\n"
     ]
    }
   ],
   "source": [
    "print(1 in (1,2,3,4))"
   ]
  },
  {
   "cell_type": "markdown",
   "metadata": {},
   "source": [
    "2.修改元组中的值，由于元组不能被直接修改，可以先把他转成列表，在通过列表修改之后，赋给一个新的元组对象"
   ]
  },
  {
   "cell_type": "code",
   "execution_count": 20,
   "metadata": {},
   "outputs": [
    {
     "name": "stdout",
     "output_type": "stream",
     "text": [
      "(1, 2, 3)\n",
      "(1, 22, 3)\n"
     ]
    }
   ],
   "source": [
    "t = (1,2,3)\n",
    "l = list(t)\n",
    "l[1] = 22\n",
    "tt = tuple(l)\n",
    "print(t)\n",
    "print(tt)"
   ]
  },
  {
   "cell_type": "markdown",
   "metadata": {},
   "source": [
    "3.向集合添加一个值，删除一个值，求交集和并集"
   ]
  },
  {
   "cell_type": "code",
   "execution_count": 21,
   "metadata": {},
   "outputs": [
    {
     "name": "stdout",
     "output_type": "stream",
     "text": [
      "{2, 3, 5}\n",
      "{3, 4, 5}\n",
      "{3, 5}\n",
      "{2, 3, 4, 5}\n"
     ]
    }
   ],
   "source": [
    "a = {1,2,3}\n",
    "b = {3,4,5}\n",
    "a.add(5)\n",
    "a.remove(1)\n",
    "print(a)\n",
    "print(b)\n",
    "print(a & b)\n",
    "print(a | b)"
   ]
  },
  {
   "cell_type": "markdown",
   "metadata": {},
   "source": [
    "4.用字典实现一个学生成绩系统，之后进行添加，修改，删除，排序等操作"
   ]
  },
  {
   "cell_type": "code",
   "execution_count": 22,
   "metadata": {},
   "outputs": [
    {
     "name": "stdout",
     "output_type": "stream",
     "text": [
      "{'student1': 80, 'student2': 90, 'student3': 95}\n",
      "{'student1': 80, 'student2': 90, 'student3': 96}\n",
      "{'student1': 80, 'student2': 90}\n",
      "['student1', 'student2']\n",
      "{'student1': 80, 'student2': 90}\n"
     ]
    }
   ],
   "source": [
    "students = {'student1': 80, 'student2': 90}\n",
    "students.update({'student3': 95})\n",
    "print(students)\n",
    "students['student3'] = 96\n",
    "print(students)\n",
    "students.pop('student3')\n",
    "print(students)\n",
    "print(sorted(students))\n",
    "print(students)"
   ]
  },
  {
   "cell_type": "markdown",
   "metadata": {},
   "source": [
    "5.求100以内所有偶数奇数的和"
   ]
  },
  {
   "cell_type": "code",
   "execution_count": 23,
   "metadata": {},
   "outputs": [
    {
     "name": "stdout",
     "output_type": "stream",
     "text": [
      "2450 2500\n"
     ]
    }
   ],
   "source": [
    "sum_a = 0\n",
    "sum_b = 0\n",
    "for x in range(100):\n",
    "    if x % 2 == 0:\n",
    "        sum_a += x\n",
    "    else:\n",
    "        sum_b += x\n",
    "print(sum_a, sum_b)"
   ]
  },
  {
   "cell_type": "markdown",
   "metadata": {},
   "source": [
    "6.输入一个整数，求它的阶乘"
   ]
  },
  {
   "cell_type": "code",
   "execution_count": 24,
   "metadata": {},
   "outputs": [
    {
     "name": "stdout",
     "output_type": "stream",
     "text": [
      "6\n"
     ]
    }
   ],
   "source": [
    "n = int(input(\"输入一个整数\"))\n",
    "res = 1\n",
    "for i in range(1, n+1):\n",
    "    res *= i\n",
    "print(res)"
   ]
  },
  {
   "cell_type": "markdown",
   "metadata": {},
   "source": [
    "7.用while循环求1～100之间数字的和"
   ]
  },
  {
   "cell_type": "code",
   "execution_count": 25,
   "metadata": {},
   "outputs": [
    {
     "name": "stdout",
     "output_type": "stream",
     "text": [
      "5050\n"
     ]
    }
   ],
   "source": [
    "i = 0\n",
    "sum = 0\n",
    "n = 100\n",
    "while i <= n:\n",
    "    sum += i\n",
    "    i += 1\n",
    "print(sum)"
   ]
  },
  {
   "cell_type": "markdown",
   "metadata": {},
   "source": [
    "8.利用while循环写个点菜程序，让用户输入想吃的菜。在这个程序中，我们可以在用户输入’quit’后使用break语句立即退出while循环"
   ]
  },
  {
   "cell_type": "code",
   "execution_count": null,
   "metadata": {},
   "outputs": [
    {
     "name": "stdout",
     "output_type": "stream",
     "text": [
      "当前订单：\n",
      "aaa\n",
      "当前订单：\n",
      "aaa\n",
      "bbb\n",
      "当前订单：\n",
      "aaa\n",
      "bbb\n",
      "fgff\n",
      "当前订单：\n",
      "aaa\n",
      "bbb\n",
      "fgff\n",
      "sss\n",
      "\n",
      "您的最终订单为：\n",
      "aaa\n",
      "bbb\n",
      "fgff\n",
      "sss\n"
     ]
    }
   ],
   "source": [
    "# 点菜程序\n",
    "\n",
    "# 定义一个空列表来存储用户点的菜\n",
    "orders = []\n",
    "\n",
    "# 使用while循环来不断接收用户输入\n",
    "while True:\n",
    "    # 用户输入想吃的菜\n",
    "    order = input(\"请输入您想吃的菜名，或输入'quit'退出：\")\n",
    "    \n",
    "    # 检查用户是否想要退出程序\n",
    "    if order.lower() == 'quit':\n",
    "        break\n",
    "    \n",
    "    # 将用户输入的菜名添加到订单列表中\n",
    "    orders.append(order)\n",
    "    \n",
    "    # 打印当前的订单列表\n",
    "    print(\"当前订单：\")\n",
    "    for dish in orders:\n",
    "        print(dish)\n",
    "    \n",
    "# 循环结束后，打印最终的订单列表\n",
    "print(\"\\n您的最终订单为：\")\n",
    "for dish in orders:\n",
    "    print(dish)\n",
    "    "
   ]
  }
 ],
 "metadata": {
  "kernelspec": {
   "display_name": "base",
   "language": "python",
   "name": "python3"
  },
  "language_info": {
   "codemirror_mode": {
    "name": "ipython",
    "version": 3
   },
   "file_extension": ".py",
   "mimetype": "text/x-python",
   "name": "python",
   "nbconvert_exporter": "python",
   "pygments_lexer": "ipython3",
   "version": "3.12.4"
  }
 },
 "nbformat": 4,
 "nbformat_minor": 4
}
