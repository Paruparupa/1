{
 "cells": [
  {
   "cell_type": "markdown",
   "metadata": {},
   "source": [
    "### Pandas -Series数据对象"
   ]
  },
  {
   "cell_type": "markdown",
   "metadata": {},
   "source": [
    "#### （1）创建如下表的Series数据对象，其中a-f为索引\n",
    "a | b | c | d | e | f\n",
    "- | :-: | :-: | :-: | :-: |-:\n",
    "30 | 25 | 27 | 41 | 25 | 34"
   ]
  },
  {
   "cell_type": "code",
   "execution_count": 67,
   "metadata": {},
   "outputs": [
    {
     "name": "stdout",
     "output_type": "stream",
     "text": [
      "a    30\n",
      "b    25\n",
      "c    27\n",
      "d    41\n",
      "e    25\n",
      "f    34\n",
      "dtype: int64\n"
     ]
    }
   ],
   "source": [
    "import pandas as pd\n",
    "\n",
    "# 创建一个字典，其中键是索引，值是对应的数据\n",
    "data = {'a': 30, 'b': 25, 'c': 27, 'd': 41, 'e': 25, 'f': 34}\n",
    "\n",
    "# 使用字典创建Series对象\n",
    "series = pd.Series(data)\n",
    "\n",
    "print(series)"
   ]
  },
  {
   "cell_type": "markdown",
   "metadata": {},
   "source": [
    "#### （2）增加数据27，索引为g"
   ]
  },
  {
   "cell_type": "code",
   "execution_count": 68,
   "metadata": {},
   "outputs": [
    {
     "name": "stdout",
     "output_type": "stream",
     "text": [
      "a    30\n",
      "b    25\n",
      "c    27\n",
      "d    41\n",
      "e    25\n",
      "f    34\n",
      "g    27\n",
      "dtype: int64\n"
     ]
    }
   ],
   "source": [
    "series.loc['g'] = 27\n",
    "print(series)"
   ]
  },
  {
   "cell_type": "markdown",
   "metadata": {},
   "source": [
    "#### （3）修改索引d对应的值为40；"
   ]
  },
  {
   "cell_type": "code",
   "execution_count": 69,
   "metadata": {},
   "outputs": [
    {
     "name": "stdout",
     "output_type": "stream",
     "text": [
      "a    30\n",
      "b    25\n",
      "c    27\n",
      "d    40\n",
      "e    25\n",
      "f    34\n",
      "g    27\n",
      "dtype: int64\n"
     ]
    }
   ],
   "source": [
    "series.loc['d'] = 40\n",
    "print(series)"
   ]
  },
  {
   "cell_type": "markdown",
   "metadata": {},
   "source": [
    "#### （4）查询值大于27的数据；"
   ]
  },
  {
   "cell_type": "code",
   "execution_count": 70,
   "metadata": {},
   "outputs": [
    {
     "name": "stdout",
     "output_type": "stream",
     "text": [
      "a    30\n",
      "d    40\n",
      "f    34\n",
      "dtype: int64\n"
     ]
    }
   ],
   "source": [
    "print(series[series>27])"
   ]
  },
  {
   "cell_type": "markdown",
   "metadata": {},
   "source": [
    "#### （5）删除位置为1-3的数据。"
   ]
  },
  {
   "cell_type": "code",
   "execution_count": 71,
   "metadata": {},
   "outputs": [
    {
     "name": "stdout",
     "output_type": "stream",
     "text": [
      "a    30\n",
      "e    25\n",
      "f    34\n",
      "g    27\n",
      "dtype: int64\n"
     ]
    }
   ],
   "source": [
    "print(series.drop(series.index[1:4]))"
   ]
  },
  {
   "cell_type": "markdown",
   "metadata": {},
   "source": [
    "### Pandas -DataFrame数据对象"
   ]
  },
  {
   "cell_type": "markdown",
   "metadata": {},
   "source": [
    "#### （1）创建3×3DataFrame数据对象：数据内容为1-9；行索引为字符a，b，c；列索引为字符串one，two，three；"
   ]
  },
  {
   "cell_type": "code",
   "execution_count": 72,
   "metadata": {},
   "outputs": [
    {
     "name": "stdout",
     "output_type": "stream",
     "text": [
      "原始DataFrame:\n",
      "   one  two  three\n",
      "a    1    2      3\n",
      "b    4    5      6\n",
      "c    7    8      9\n"
     ]
    }
   ],
   "source": [
    "import pandas as pd\n",
    "import numpy as np\n",
    "\n",
    "# （1）创建3×3 DataFrame数据对象\n",
    "data = np.arange(1, 10).reshape(3, 3)\n",
    "index = ['a', 'b', 'c']\n",
    "columns = ['one', 'two', 'three']\n",
    "df = pd.DataFrame(data, index=index, columns=columns)\n",
    "\n",
    "print(\"原始DataFrame:\")\n",
    "print(df)"
   ]
  },
  {
   "cell_type": "markdown",
   "metadata": {},
   "source": [
    "#### （2）查询列索引为two和three两列数据；"
   ]
  },
  {
   "cell_type": "code",
   "execution_count": 73,
   "metadata": {},
   "outputs": [
    {
     "name": "stdout",
     "output_type": "stream",
     "text": [
      "\n",
      "列索引为two和three的数据:\n",
      "   two  three\n",
      "a    2      3\n",
      "b    5      6\n",
      "c    8      9\n"
     ]
    }
   ],
   "source": [
    "# （2）查询列索引为two和three两列数据\n",
    "df_two_three = df[['two', 'three']]\n",
    "\n",
    "print(\"\\n列索引为two和three的数据:\")\n",
    "print(df_two_three)"
   ]
  },
  {
   "cell_type": "markdown",
   "metadata": {},
   "source": [
    "#### （3）查询第0行、第2行、第0列、第2列数据；"
   ]
  },
  {
   "cell_type": "code",
   "execution_count": 74,
   "metadata": {},
   "outputs": [
    {
     "name": "stdout",
     "output_type": "stream",
     "text": [
      "\n",
      "第0行、第2行、第0列、第2列的数据:\n",
      "   one  three\n",
      "a    1      3\n",
      "c    7      9\n"
     ]
    }
   ],
   "source": [
    "# （3）查询第0行、第2行、第0列、第2列数据\n",
    "df_02_02 = df.loc[['a', 'c'], ['one', 'three']]\n",
    "\n",
    "print(\"\\n第0行、第2行、第0列、第2列的数据:\")\n",
    "print(df_02_02)"
   ]
  },
  {
   "cell_type": "markdown",
   "metadata": {},
   "source": [
    "#### （4）筛选第1列中值大于2的所有行数据，另存为data1对象；"
   ]
  },
  {
   "cell_type": "code",
   "execution_count": 75,
   "metadata": {},
   "outputs": [
    {
     "name": "stdout",
     "output_type": "stream",
     "text": [
      "\n",
      "第1列中值大于2的所有行数据:\n",
      "   one  two  three\n",
      "b    4    5      6\n",
      "c    7    8      9\n"
     ]
    }
   ],
   "source": [
    "# （4）筛选第1列中值大于2的所有行数据，另存为data1对象\n",
    "data1 = df[df['one'] > 2]\n",
    "\n",
    "print(\"\\n第1列中值大于2的所有行数据:\")\n",
    "print(data1)"
   ]
  },
  {
   "cell_type": "markdown",
   "metadata": {},
   "source": [
    "#### （5）为data1添加一列数据，列索引为four，值都为10；"
   ]
  },
  {
   "cell_type": "code",
   "execution_count": 76,
   "metadata": {},
   "outputs": [
    {
     "name": "stdout",
     "output_type": "stream",
     "text": [
      "\n",
      "添加列four后的数据1:\n",
      "   one  two  three  four\n",
      "b    4    5      6    10\n",
      "c    7    8      9    10\n"
     ]
    },
    {
     "name": "stderr",
     "output_type": "stream",
     "text": [
      "/var/folders/tq/r9wfk6gs37b7v8sg2rr0pcc00000gn/T/ipykernel_79742/4172554502.py:2: SettingWithCopyWarning: \n",
      "A value is trying to be set on a copy of a slice from a DataFrame.\n",
      "Try using .loc[row_indexer,col_indexer] = value instead\n",
      "\n",
      "See the caveats in the documentation: https://pandas.pydata.org/pandas-docs/stable/user_guide/indexing.html#returning-a-view-versus-a-copy\n",
      "  data1['four'] = 10\n"
     ]
    }
   ],
   "source": [
    "# （5）为data1添加一列数据，列索引为four，值都为10\n",
    "data1['four'] = 10\n",
    "\n",
    "print(\"\\n添加列four后的数据1:\")\n",
    "print(data1)"
   ]
  },
  {
   "cell_type": "markdown",
   "metadata": {},
   "source": [
    "#### （6）将data1所有值大于9的数据修改为8；"
   ]
  },
  {
   "cell_type": "code",
   "execution_count": 77,
   "metadata": {},
   "outputs": [
    {
     "name": "stdout",
     "output_type": "stream",
     "text": [
      "\n",
      "将所有值大于9的数据修改为8后的数据1:\n",
      "   one  two  three  four\n",
      "b    4    5      6     8\n",
      "c    7    8      9     8\n"
     ]
    },
    {
     "name": "stderr",
     "output_type": "stream",
     "text": [
      "/var/folders/tq/r9wfk6gs37b7v8sg2rr0pcc00000gn/T/ipykernel_79742/3227153631.py:2: SettingWithCopyWarning: \n",
      "A value is trying to be set on a copy of a slice from a DataFrame.\n",
      "Try using .loc[row_indexer,col_indexer] = value instead\n",
      "\n",
      "See the caveats in the documentation: https://pandas.pydata.org/pandas-docs/stable/user_guide/indexing.html#returning-a-view-versus-a-copy\n",
      "  data1[data1 > 9] = 8\n",
      "/var/folders/tq/r9wfk6gs37b7v8sg2rr0pcc00000gn/T/ipykernel_79742/3227153631.py:2: SettingWithCopyWarning: \n",
      "A value is trying to be set on a copy of a slice from a DataFrame\n",
      "\n",
      "See the caveats in the documentation: https://pandas.pydata.org/pandas-docs/stable/user_guide/indexing.html#returning-a-view-versus-a-copy\n",
      "  data1[data1 > 9] = 8\n"
     ]
    }
   ],
   "source": [
    "# （6）将data1所有值大于9的数据修改为8\n",
    "data1[data1 > 9] = 8\n",
    "\n",
    "print(\"\\n将所有值大于9的数据修改为8后的数据1:\")\n",
    "print(data1)"
   ]
  },
  {
   "cell_type": "markdown",
   "metadata": {},
   "source": [
    "#### （7）删除data1中第0行和第1行数据。"
   ]
  },
  {
   "cell_type": "code",
   "execution_count": 78,
   "metadata": {},
   "outputs": [
    {
     "name": "stdout",
     "output_type": "stream",
     "text": [
      "\n",
      "删除第0行和第1行数据后的data1:\n",
      "Empty DataFrame\n",
      "Columns: [one, two, three, four]\n",
      "Index: []\n"
     ]
    }
   ],
   "source": [
    "# （7）删除data1中第0行和第1行数据\n",
    "data1 = data1.drop(data1.index[[0, 1]])\n",
    "\n",
    "print(\"\\n删除第0行和第1行数据后的data1:\")\n",
    "print(data1)"
   ]
  }
 ],
 "metadata": {
  "kernelspec": {
   "display_name": "base",
   "language": "python",
   "name": "python3"
  },
  "language_info": {
   "codemirror_mode": {
    "name": "ipython",
    "version": 3
   },
   "file_extension": ".py",
   "mimetype": "text/x-python",
   "name": "python",
   "nbconvert_exporter": "python",
   "pygments_lexer": "ipython3",
   "version": "3.12.4"
  }
 },
 "nbformat": 4,
 "nbformat_minor": 2
}
