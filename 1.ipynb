{
 "cells": [
  {
   "cell_type": "markdown",
   "metadata": {
    "code_folding": []
   },
   "source": [
    "### 1、创建一个空列表 score；"
   ]
  },
  {
   "cell_type": "code",
   "execution_count": 170,
   "metadata": {},
   "outputs": [
    {
     "name": "stdout",
     "output_type": "stream",
     "text": [
      "[]\n"
     ]
    }
   ],
   "source": [
    "score = []\n",
    "print(score)"
   ]
  },
  {
   "cell_type": "markdown",
   "metadata": {},
   "source": [
    "### 2、调用append()函数在 score 列表中依次追加 10 个数值： \n",
    "### （68,87,92,100,76,88,54,89,76,61）；\n"
   ]
  },
  {
   "cell_type": "code",
   "execution_count": 171,
   "metadata": {},
   "outputs": [
    {
     "name": "stdout",
     "output_type": "stream",
     "text": [
      "[68, 87, 92, 100, 76, 88, 54, 89, 76, 61]\n"
     ]
    }
   ],
   "source": [
    "for x in [68,87,92,100,76,88,54,89,76,61]:\n",
    "    score.append(x)\n",
    "print(score)"
   ]
  },
  {
   "cell_type": "markdown",
   "metadata": {},
   "source": [
    "### 3、输出score 列表中第 3 个元素的数值；"
   ]
  },
  {
   "cell_type": "code",
   "execution_count": 172,
   "metadata": {},
   "outputs": [
    {
     "name": "stdout",
     "output_type": "stream",
     "text": [
      "92\n"
     ]
    }
   ],
   "source": [
    "print(score[2])"
   ]
  },
  {
   "cell_type": "markdown",
   "metadata": {},
   "source": [
    "### 4、输出score 列表中第 1~6 个元素的值；"
   ]
  },
  {
   "cell_type": "code",
   "execution_count": 173,
   "metadata": {},
   "outputs": [
    {
     "name": "stdout",
     "output_type": "stream",
     "text": [
      "[68, 87, 92, 100, 76, 88]\n"
     ]
    }
   ],
   "source": [
    "print(score[:6])"
   ]
  },
  {
   "cell_type": "markdown",
   "metadata": {},
   "source": [
    "### 5、调用insert()函数，在 score 列表第3 个元素之前添加数值 59；"
   ]
  },
  {
   "cell_type": "code",
   "execution_count": 174,
   "metadata": {},
   "outputs": [
    {
     "name": "stdout",
     "output_type": "stream",
     "text": [
      "[68, 87, 59, 92, 100, 76, 88, 54, 89, 76, 61]\n"
     ]
    }
   ],
   "source": [
    "score.insert(2, 59)\n",
    "print(score)"
   ]
  },
  {
   "cell_type": "markdown",
   "metadata": {},
   "source": [
    "### 6、利用变量 num 保存数值 76,调用 count()函数，查询 num 变量值在 score 列表中出现的次数；\n"
   ]
  },
  {
   "cell_type": "code",
   "execution_count": 175,
   "metadata": {},
   "outputs": [
    {
     "name": "stdout",
     "output_type": "stream",
     "text": [
      "2\n"
     ]
    }
   ],
   "source": [
    "num = 76\n",
    "print(score.count(num))"
   ]
  },
  {
   "cell_type": "markdown",
   "metadata": {},
   "source": [
    "### 7、使用in 查询score列表中是否有num 变量值的考试成绩；"
   ]
  },
  {
   "cell_type": "code",
   "execution_count": 176,
   "metadata": {},
   "outputs": [
    {
     "name": "stdout",
     "output_type": "stream",
     "text": [
      "True\n"
     ]
    }
   ],
   "source": [
    "print(num in score)"
   ]
  },
  {
   "cell_type": "markdown",
   "metadata": {},
   "source": [
    "### 8、调用index()函数，查询 score 列表中成绩是满分的学生学号；"
   ]
  },
  {
   "cell_type": "code",
   "execution_count": 177,
   "metadata": {},
   "outputs": [
    {
     "name": "stdout",
     "output_type": "stream",
     "text": [
      "[68, 87, 59, 92, 100, 76, 88, 54, 89, 76, 61]\n",
      "4\n"
     ]
    }
   ],
   "source": [
    "print(score)\n",
    "print(score.index(100))"
   ]
  },
  {
   "cell_type": "markdown",
   "metadata": {},
   "source": [
    "### 9、score 列表中将 59分加1 分；"
   ]
  },
  {
   "cell_type": "code",
   "execution_count": 178,
   "metadata": {},
   "outputs": [
    {
     "name": "stdout",
     "output_type": "stream",
     "text": [
      "[68, 87, 60, 92, 100, 76, 88, 54, 89, 76, 61]\n"
     ]
    }
   ],
   "source": [
    "# 1)\n",
    "score[2] += 1\n",
    "print(score)\n",
    "# 2)\n",
    "# score[score.index(59)] += 1\n",
    "# print(score)"
   ]
  },
  {
   "cell_type": "markdown",
   "metadata": {},
   "source": [
    "### 10、调用del()函数删除 score 列表中第1 个元素；"
   ]
  },
  {
   "cell_type": "code",
   "execution_count": 179,
   "metadata": {},
   "outputs": [
    {
     "name": "stdout",
     "output_type": "stream",
     "text": [
      "[87, 60, 92, 100, 76, 88, 54, 89, 76, 61]\n"
     ]
    }
   ],
   "source": [
    "del score[0]\n",
    "print(score)"
   ]
  },
  {
   "cell_type": "markdown",
   "metadata": {},
   "source": [
    "### 11、调用len()函数获得 score 列表中元素的个数；"
   ]
  },
  {
   "cell_type": "code",
   "execution_count": 180,
   "metadata": {},
   "outputs": [
    {
     "name": "stdout",
     "output_type": "stream",
     "text": [
      "10\n"
     ]
    }
   ],
   "source": [
    "print(len(score))"
   ]
  },
  {
   "cell_type": "markdown",
   "metadata": {},
   "source": [
    "### 12、调用sort()函数，对列表中所有元素进行排序，输出考试的最高分和最低分；"
   ]
  },
  {
   "cell_type": "code",
   "execution_count": 181,
   "metadata": {},
   "outputs": [
    {
     "name": "stdout",
     "output_type": "stream",
     "text": [
      "[87, 60, 92, 100, 76, 88, 54, 89, 76, 61]\n",
      "[54, 60, 61, 76, 76, 87, 88, 89, 92, 100]\n",
      "54\n",
      "100\n"
     ]
    }
   ],
   "source": [
    "print(score)\n",
    "score.sort()\n",
    "print(score)\n",
    "print(score[0])\n",
    "print(score[-1])"
   ]
  },
  {
   "cell_type": "markdown",
   "metadata": {},
   "source": [
    "### 13、调用reverse()函数，颠倒score 列表中元素的顺序；"
   ]
  },
  {
   "cell_type": "code",
   "execution_count": 182,
   "metadata": {},
   "outputs": [
    {
     "name": "stdout",
     "output_type": "stream",
     "text": [
      "[100, 92, 89, 88, 87, 76, 76, 61, 60, 54]\n"
     ]
    }
   ],
   "source": [
    "score.reverse()\n",
    "print(score)"
   ]
  },
  {
   "cell_type": "markdown",
   "metadata": {},
   "source": [
    "### 14、调用pop()函数删除 score 列表中尾部的元素，返回删除的元素；"
   ]
  },
  {
   "cell_type": "code",
   "execution_count": 183,
   "metadata": {},
   "outputs": [
    {
     "name": "stdout",
     "output_type": "stream",
     "text": [
      "[100, 92, 89, 88, 87, 76, 76, 61, 60]\n",
      "54\n"
     ]
    }
   ],
   "source": [
    "n = score.pop()\n",
    "print(score)\n",
    "print(n)"
   ]
  },
  {
   "cell_type": "markdown",
   "metadata": {},
   "source": [
    "### 15、score 列表中追加数值 88，并输出。调用 remove()函数删除 score 列表中第一个数值88；"
   ]
  },
  {
   "cell_type": "code",
   "execution_count": 184,
   "metadata": {},
   "outputs": [
    {
     "name": "stdout",
     "output_type": "stream",
     "text": [
      "[100, 92, 89, 88, 87, 76, 76, 61, 60, 88]\n",
      "[100, 92, 89, 87, 76, 76, 61, 60, 88]\n"
     ]
    }
   ],
   "source": [
    "score.append(88)\n",
    "print(score)\n",
    "score.remove(88)\n",
    "print(score)"
   ]
  },
  {
   "cell_type": "markdown",
   "metadata": {},
   "source": [
    "### 16、创建2 个列表 score1 和score2， score1 中包含数值2个元素值： 80,61， score2中包含3个元素值：71,95，82，合并这两个列表，并输出全部元素；\n"
   ]
  },
  {
   "cell_type": "code",
   "execution_count": 185,
   "metadata": {},
   "outputs": [
    {
     "name": "stdout",
     "output_type": "stream",
     "text": [
      "[80, 61, 71, 95, 82]\n",
      "[80, 61, 71, 95, 82]\n"
     ]
    }
   ],
   "source": [
    "score1 = [80, 61]\n",
    "score2 = [71, 95, 82]\n",
    "# 1)\n",
    "score3 = score1 + score2\n",
    "print(score3)\n",
    "# 2)\n",
    "score1.extend(score2)\n",
    "print(score1)"
   ]
  },
  {
   "cell_type": "markdown",
   "metadata": {},
   "source": [
    "### 17、创建score1 列表，其中包含数值 2 个元素值：80,61，将 score1中元素复制5遍保存在score2 列表中，输出score2 列表中全部元素"
   ]
  },
  {
   "cell_type": "code",
   "execution_count": 186,
   "metadata": {},
   "outputs": [
    {
     "name": "stdout",
     "output_type": "stream",
     "text": [
      "[80, 61, 80, 61, 80, 61, 80, 61, 80, 61]\n"
     ]
    }
   ],
   "source": [
    "score1 = [80, 61]\n",
    "score2 = score1 * 5\n",
    "print(score2)"
   ]
  }
 ],
 "metadata": {
  "kernelspec": {
   "display_name": "base",
   "language": "python",
   "name": "python3"
  },
  "language_info": {
   "codemirror_mode": {
    "name": "ipython",
    "version": 3
   },
   "file_extension": ".py",
   "mimetype": "text/x-python",
   "name": "python",
   "nbconvert_exporter": "python",
   "pygments_lexer": "ipython3",
   "version": "3.12.4"
  }
 },
 "nbformat": 4,
 "nbformat_minor": 2
}
