{
 "cells": [
  {
   "cell_type": "markdown",
   "metadata": {},
   "source": [
    "#### 【实验1】：利用所学的列表等知识，完成下列问题：<br/>\n",
    "\n",
    "项目 | 一月 | 二月 | 三月 \n",
    ":-: | :-: | :-: | :-: \n",
    "销售额| 52,000.00| 51,000.00 | 48,000.00 \n",
    "成本 | 46,800.00| 45,900.00 | 43,200.00\n",
    "\n",
    "<br/>\n",
    "\n",
    "已知：利润 = 销售额 - 成本，根据上述表格数据，输出每月的利润\n",
    "\n",
    "具体要求：\n",
    "1、使用两个列表分别存储销售额和成本<br/>\n",
    "2、用zip将两个列表进行合成<br/>\n",
    "3、遍历2的结果，并输出每月的利润,输出格式为：\n",
    "\n",
    "**月的利润为：***"
   ]
  },
  {
   "cell_type": "code",
   "execution_count": 20,
   "metadata": {},
   "outputs": [
    {
     "name": "stdout",
     "output_type": "stream",
     "text": [
      "1月的利润为：5200.0\n",
      "2月的利润为：5100.0\n",
      "3月的利润为：4800.0\n"
     ]
    }
   ],
   "source": [
    "# 存储销售额和成本的列表\n",
    "sales = [52000.00, 51000.00, 48000.00]\n",
    "costs = [46800.00, 45900.00, 43200.00]\n",
    "\n",
    "# 使用zip将两个列表合成一个元组列表\n",
    "monthly_data = zip(sales, costs)\n",
    "\n",
    "# 遍历元组列表，计算并输出每月的利润\n",
    "for month, (sale, cost) in enumerate(monthly_data, start=1):\n",
    "    profit = sale - cost\n",
    "    print(f\"{month}月的利润为：{profit}\")"
   ]
  },
  {
   "cell_type": "markdown",
   "metadata": {},
   "source": [
    "#### 【实验2】：用字典推导式以字符串以及其长度建字典\n",
    "country = ['China','Japan','Korea','India','Thailand','Indonesia']\n",
    "\n",
    "输出\n",
    "{'China': 5, 'Japan': 5, 'Korea': 5, 'India': 5, 'Thailand': 8, 'Indonesia': 9} "
   ]
  },
  {
   "cell_type": "code",
   "execution_count": 21,
   "metadata": {},
   "outputs": [
    {
     "name": "stdout",
     "output_type": "stream",
     "text": [
      "{'China': 5, 'Japan': 5, 'Korea': 5, 'India': 5, 'Thailand': 8, 'Indonesia': 9}\n"
     ]
    }
   ],
   "source": [
    "# 给定的国家列表\n",
    "country = ['China', 'Japan', 'Korea', 'India', 'Thailand', 'Indonesia']\n",
    "\n",
    "# 使用字典推导式创建字典\n",
    "country_lengths = {country_name: len(country_name) for country_name in country}\n",
    "\n",
    "# 输出结果\n",
    "print(country_lengths)"
   ]
  },
  {
   "cell_type": "markdown",
   "metadata": {},
   "source": [
    "#### 【实验3】：用字典推导式实现大小写合并\n",
    "mc = {'a': 10, 'b': 34, 'A': 7, 'Z': 3}\n",
    "\n",
    "输出：{'a': 17, 'z': 3, 'b': 34}\n"
   ]
  },
  {
   "cell_type": "code",
   "execution_count": 22,
   "metadata": {},
   "outputs": [
    {
     "name": "stdout",
     "output_type": "stream",
     "text": [
      "{'a': 17, 'b': 34, 'z': 3}\n"
     ]
    }
   ],
   "source": [
    "# 给定的字典\n",
    "mc = {'A': 10, 'b': 34, 'a': 7, 'Z': 3}\n",
    "\n",
    "# 使用字典推导式合并大小写\n",
    "merged_mc = {k.lower(): mc[k.upper()] + mc[k.lower()] if k.lower() in mc and k.upper() in mc else mc[k] for k in mc}\n",
    "# 输出结果\n",
    "print(merged_mc)"
   ]
  },
  {
   "cell_type": "markdown",
   "metadata": {},
   "source": [
    "#### 【实验4】：利用while循环写个点菜程序，让用户输入想吃的菜。在这个程序中，我们可以在用户输入’quit’后使用break语句立即退出while循环\n"
   ]
  },
  {
   "cell_type": "code",
   "execution_count": 23,
   "metadata": {},
   "outputs": [
    {
     "name": "stdout",
     "output_type": "stream",
     "text": [
      "当前订单：\n",
      "asd\n",
      "当前订单：\n",
      "asd\n",
      "dsadd\n",
      "当前订单：\n",
      "asd\n",
      "dsadd\n",
      "ddddd\n",
      "\n",
      "您的最终订单为：\n",
      "asd\n",
      "dsadd\n",
      "ddddd\n"
     ]
    }
   ],
   "source": [
    "# 点菜程序\n",
    "\n",
    "# 定义一个空列表来存储用户点的菜\n",
    "orders = []\n",
    "\n",
    "# 使用while循环来不断接收用户输入\n",
    "while True:\n",
    "    # 用户输入想吃的菜\n",
    "    order = input(\"请输入您想吃的菜名，或输入'quit'退出：\")\n",
    "    \n",
    "    # 检查用户是否想要退出程序\n",
    "    if order.lower() == 'quit':\n",
    "        break\n",
    "    \n",
    "    # 将用户输入的菜名添加到订单列表中\n",
    "    orders.append(order)\n",
    "    \n",
    "    # 打印当前的订单列表\n",
    "    print(\"当前订单：\")\n",
    "    for dish in orders:\n",
    "        print(dish)\n",
    "    \n",
    "# 循环结束后，打印最终的订单列表\n",
    "print(\"\\n您的最终订单为：\")\n",
    "for dish in orders:\n",
    "    print(dish)"
   ]
  },
  {
   "cell_type": "code",
   "execution_count": null,
   "metadata": {},
   "outputs": [],
   "source": []
  }
 ],
 "metadata": {
  "kernelspec": {
   "display_name": "base",
   "language": "python",
   "name": "python3"
  },
  "language_info": {
   "codemirror_mode": {
    "name": "ipython",
    "version": 3
   },
   "file_extension": ".py",
   "mimetype": "text/x-python",
   "name": "python",
   "nbconvert_exporter": "python",
   "pygments_lexer": "ipython3",
   "version": "3.12.4"
  }
 },
 "nbformat": 4,
 "nbformat_minor": 2
}
