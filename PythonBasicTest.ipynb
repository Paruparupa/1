{
 "cells": [
  {
   "cell_type": "markdown",
   "metadata": {},
   "source": [
    "# 《大数据分析语言基础》期中考试测试\n"
   ]
  },
  {
   "cell_type": "markdown",
   "metadata": {},
   "source": [
    "1. 假设一个员工每小时的工作薪酬为50元，每天工作8个小时，每月工作22天，请计算其每月的薪酬为多少？如果每小时的薪酬上调为80元，每月薪酬为多少?（8分）"
   ]
  },
  {
   "cell_type": "code",
   "execution_count": 15,
   "metadata": {},
   "outputs": [
    {
     "name": "stdout",
     "output_type": "stream",
     "text": [
      "初始每小时薪酬为50元时，每月薪酬为：8800元\n",
      "每小时薪酬上调为80元时，每月薪酬为：14080元\n"
     ]
    }
   ],
   "source": [
    "# 定义员工的工作时间和薪酬\n",
    "work_hours_per_day = 8  # 每天工作小时数\n",
    "work_days_per_month = 22  # 每月工作天数\n",
    "hourly_wage_initial = 50  # 初始每小时薪酬\n",
    "hourly_wage_increased = 80  # 提高后的每小时薪酬\n",
    "\n",
    "# 计算每月薪酬\n",
    "monthly_salary_initial = work_hours_per_day * work_days_per_month * hourly_wage_initial\n",
    "monthly_salary_increased = work_hours_per_day * work_days_per_month * hourly_wage_increased\n",
    "\n",
    "# 输出结果\n",
    "print(f\"初始每小时薪酬为{hourly_wage_initial}元时，每月薪酬为：{monthly_salary_initial}元\")\n",
    "print(f\"每小时薪酬上调为{hourly_wage_increased}元时，每月薪酬为：{monthly_salary_increased}元\")"
   ]
  },
  {
   "cell_type": "markdown",
   "metadata": {},
   "source": [
    "2. 定义一个3位自然数的变量，计算并输出其百位、十位和个位上的数字。（8分）"
   ]
  },
  {
   "cell_type": "code",
   "execution_count": 16,
   "metadata": {},
   "outputs": [
    {
     "name": "stdout",
     "output_type": "stream",
     "text": [
      "百位上的数字是：1\n",
      "十位上的数字是：2\n",
      "个位上的数字是：3\n"
     ]
    }
   ],
   "source": [
    "# 定义一个三位数\n",
    "three_digit_number = 123\n",
    "\n",
    "# 计算百位、十位和个位上的数字\n",
    "hundreds_digit = three_digit_number // 100\n",
    "tens_digit = (three_digit_number % 100) // 10\n",
    "units_digit = three_digit_number % 10\n",
    "\n",
    "# 输出结果\n",
    "print(f\"百位上的数字是：{hundreds_digit}\")\n",
    "print(f\"十位上的数字是：{tens_digit}\")\n",
    "print(f\"个位上的数字是：{units_digit}\")"
   ]
  },
  {
   "cell_type": "markdown",
   "metadata": {},
   "source": [
    "3. 从键盘输入圆的半径，求圆的面积，并格式化输出结果，保留2位小数。（8分）"
   ]
  },
  {
   "cell_type": "code",
   "execution_count": 17,
   "metadata": {},
   "outputs": [
    {
     "name": "stdout",
     "output_type": "stream",
     "text": [
      "圆的面积是：3.14\n"
     ]
    }
   ],
   "source": [
    "import math\n",
    "\n",
    "# 从键盘输入圆的半径\n",
    "radius = float(input(\"请输入圆的半径：\"))\n",
    "\n",
    "# 计算圆的面积\n",
    "area = math.pi * radius ** 2\n",
    "\n",
    "# 格式化输出结果，保留2位小数\n",
    "print(f\"圆的面积是：{area:.2f}\")"
   ]
  },
  {
   "cell_type": "markdown",
   "metadata": {},
   "source": [
    "4. 对于-100~100内的10个随机整数，求出其中的最大值和最小值。（8分）"
   ]
  },
  {
   "cell_type": "code",
   "execution_count": 18,
   "metadata": {},
   "outputs": [
    {
     "name": "stdout",
     "output_type": "stream",
     "text": [
      "10个随机整数为：[-70, -15, 2, 30, -9, 74, -26, 83, -92, -95]\n",
      "其中的最大值是：83\n",
      "其中的最小值是：-95\n"
     ]
    }
   ],
   "source": [
    "import random\n",
    "\n",
    "# 生成-100到100之间的10个随机整数\n",
    "random_numbers = [random.randint(-100, 100) for _ in range(10)]\n",
    "\n",
    "# 求出最大值和最小值\n",
    "max_value = max(random_numbers)\n",
    "min_value = min(random_numbers)\n",
    "\n",
    "# 输出结果\n",
    "print(f\"10个随机整数为：{random_numbers}\")\n",
    "print(f\"其中的最大值是：{max_value}\")\n",
    "print(f\"其中的最小值是：{min_value}\")"
   ]
  },
  {
   "cell_type": "markdown",
   "metadata": {},
   "source": [
    "5. 检查用户输入中是否有敏感词（'非法'，'暴力'，'滚开'），如果有，则将敏感词替换为三个星号（如***）。（12分）"
   ]
  },
  {
   "cell_type": "code",
   "execution_count": 19,
   "metadata": {},
   "outputs": [
    {
     "name": "stdout",
     "output_type": "stream",
     "text": [
      "处理后的内容： *********阿斯顿发生*********\n"
     ]
    }
   ],
   "source": [
    "# 定义敏感词列表\n",
    "sensitive_words = ['非法', '暴力', '滚开']\n",
    "\n",
    "# 获取用户输入\n",
    "user_input = input(\"请输入您想说的话：\")\n",
    "\n",
    "# 检查并替换敏感词\n",
    "for word in sensitive_words:\n",
    "    if word in user_input:\n",
    "        user_input = user_input.replace(word, '***')\n",
    "\n",
    "# 输出处理后的结果\n",
    "print(\"处理后的内容：\", user_input)"
   ]
  },
  {
   "cell_type": "markdown",
   "metadata": {},
   "source": [
    "6. 合并两个成绩列表score1 =[75,80,85,70,65,90]和score2 = [90,76,80,90]后，将成绩降序排列，并统计成绩为80分以上的人数。（12分）"
   ]
  },
  {
   "cell_type": "code",
   "execution_count": 20,
   "metadata": {},
   "outputs": [
    {
     "name": "stdout",
     "output_type": "stream",
     "text": [
      "合并后的成绩列表为：[75, 80, 85, 70, 65, 90, 90, 76, 80, 90]\n",
      "降序排列后的成绩列表为：[90, 90, 90, 85, 80, 80, 76, 75, 70, 65]\n",
      "成绩为80分以上的人数为：6\n"
     ]
    }
   ],
   "source": [
    "# 定义两个成绩列表\n",
    "score1 = [75, 80, 85, 70, 65, 90]\n",
    "score2 = [90, 76, 80, 90]\n",
    "\n",
    "# 合并两个成绩列表\n",
    "combined_scores = score1 + score2\n",
    "\n",
    "# 将成绩降序排列\n",
    "sorted_scores = sorted(combined_scores, reverse=True)\n",
    "\n",
    "# 统计成绩为80分以上的人数\n",
    "count_above_80 = len([score for score in sorted_scores if score >= 80])\n",
    "\n",
    "# 输出结果\n",
    "print(f\"合并后的成绩列表为：{combined_scores}\")\n",
    "print(f\"降序排列后的成绩列表为：{sorted_scores}\")\n",
    "print(f\"成绩为80分以上的人数为：{count_above_80}\")"
   ]
  },
  {
   "cell_type": "markdown",
   "metadata": {},
   "source": [
    "7. 模拟7个评委的评分过程，从键盘输入7个评分，然后去掉一个最高分和一个最低分，最后计算平均分。（12分）"
   ]
  },
  {
   "cell_type": "code",
   "execution_count": 21,
   "metadata": {},
   "outputs": [
    {
     "name": "stdout",
     "output_type": "stream",
     "text": [
      "去掉一个最高分和一个最低分后的成绩列表为：[2.0, 3.0, 4.0, 5.0, 6.0]\n",
      "平均分为：4.00\n"
     ]
    }
   ],
   "source": [
    "# 从键盘输入7个评分\n",
    "scores = [float(input(f\"请输入第{i+1}个评委的评分：\")) for i in range(7)]\n",
    "\n",
    "# 去掉一个最高分和一个最低分\n",
    "scores.remove(max(scores))\n",
    "scores.remove(min(scores))\n",
    "\n",
    "# 计算平均分\n",
    "average_score = sum(scores) / len(scores)\n",
    "\n",
    "# 输出结果\n",
    "print(f\"去掉一个最高分和一个最低分后的成绩列表为：{scores}\")\n",
    "print(f\"平均分为：{average_score:.2f}\")"
   ]
  },
  {
   "cell_type": "markdown",
   "metadata": {},
   "source": [
    "8. 计英文短句（'The city was covered by the green trees I like the green city'）中各单词的词频。（12分）"
   ]
  },
  {
   "cell_type": "code",
   "execution_count": 22,
   "metadata": {},
   "outputs": [
    {
     "name": "stdout",
     "output_type": "stream",
     "text": [
      "单词'the'出现了3次\n",
      "单词'city'出现了2次\n",
      "单词'was'出现了1次\n",
      "单词'covered'出现了1次\n",
      "单词'by'出现了1次\n",
      "单词'green'出现了2次\n",
      "单词'trees'出现了1次\n",
      "单词'i'出现了1次\n",
      "单词'like'出现了1次\n"
     ]
    }
   ],
   "source": [
    "# 定义英文短句\n",
    "sentence = 'The city was covered by the green trees I like the green city'\n",
    "\n",
    "# 将短句分割成单词列表，考虑到单词之间由空格分隔\n",
    "words = sentence.split()\n",
    "\n",
    "# 使用字典统计词频\n",
    "word_count = {}\n",
    "for word in words:\n",
    "    # 将单词转换为小写，以便统计时不区分大小写\n",
    "    word = word.lower()\n",
    "    if word in word_count:\n",
    "        word_count[word] += 1\n",
    "    else:\n",
    "        word_count[word] = 1\n",
    "\n",
    "# 输出结果\n",
    "for word, count in word_count.items():\n",
    "    print(f\"单词'{word}'出现了{count}次\")"
   ]
  },
  {
   "cell_type": "markdown",
   "metadata": {},
   "source": [
    "9. 用**函数式编程**将成绩从百分制变换为等级制。转换规则为：90~100分为'A', 80~89分为'B', 70~79分为'C', 60-69分为'D', 60分以下为'E'。（20分）"
   ]
  },
  {
   "cell_type": "code",
   "execution_count": 23,
   "metadata": {},
   "outputs": [
    {
     "name": "stdout",
     "output_type": "stream",
     "text": [
      "['A', 'B', 'C', 'D', 'E', 'A', 'B', 'C', 'D', 'E']\n"
     ]
    }
   ],
   "source": [
    "def grade(score):\n",
    "    if 90 <= score <= 100:\n",
    "        return 'A'\n",
    "    elif 80 <= score < 90:\n",
    "        return 'B'\n",
    "    elif 70 <= score < 80:\n",
    "        return 'C'\n",
    "    elif 60 <= score < 70:\n",
    "        return 'D'\n",
    "    else:\n",
    "        return 'E'\n",
    "\n",
    "# 使用函数\n",
    "scores = [95, 85, 76, 68, 59, 100, 89, 70, 61, 45]\n",
    "grades = list(map(grade, scores))\n",
    "print(grades)"
   ]
  }
 ],
 "metadata": {
  "kernelspec": {
   "display_name": "base",
   "language": "python",
   "name": "python3"
  },
  "language_info": {
   "codemirror_mode": {
    "name": "ipython",
    "version": 3
   },
   "file_extension": ".py",
   "mimetype": "text/x-python",
   "name": "python",
   "nbconvert_exporter": "python",
   "pygments_lexer": "ipython3",
   "version": "3.12.4"
  }
 },
 "nbformat": 4,
 "nbformat_minor": 5
}
